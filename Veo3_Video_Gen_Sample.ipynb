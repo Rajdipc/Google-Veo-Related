{
  "nbformat": 4,
  "nbformat_minor": 0,
  "metadata": {
    "colab": {
      "provenance": []
    },
    "kernelspec": {
      "name": "python3",
      "display_name": "Python 3"
    },
    "language_info": {
      "name": "python"
    }
  },
  "cells": [
    {
      "cell_type": "markdown",
      "source": [
        "## Overview\n",
        "\n",
        "### Veo 3\n",
        "\n",
        "Veo 3 on Vertex AI gives application developers access to Google's cutting-edge video generation. This model creates videos with stunning detail and realistic physics across a wide array of visual styles. Veo 3 enhances video quality from text and image prompts, and now includes dialogue and audio generation.\n",
        "\n",
        "In this tutorial, you will learn how to use the Google Gen AI SDK for Python to interact with Veo 3 and generate new videos with audio from:\n",
        "- Enhanced text prompts\n",
        "- Starting input images"
      ],
      "metadata": {
        "id": "NGBYFwrLvsVl"
      }
    },
    {
      "cell_type": "markdown",
      "source": [
        "## Get started"
      ],
      "metadata": {
        "id": "iq5zWRbYvvSy"
      }
    },
    {
      "cell_type": "markdown",
      "source": [
        "### Install Google GenAI SDK for Python"
      ],
      "metadata": {
        "id": "ibEYp5Zyv5vD"
      }
    },
    {
      "cell_type": "code",
      "source": [
        "%pip install --upgrade google-genai"
      ],
      "metadata": {
        "id": "Iup90uljwAXL"
      },
      "execution_count": null,
      "outputs": []
    },
    {
      "cell_type": "markdown",
      "source": [
        "### [Optional] Authenticate your notebook environment (Colab only)\n",
        "\n",
        "If you are running this notebook on Google Colab, run the following cell to authenticate your environment."
      ],
      "metadata": {
        "id": "taQA225awPh0"
      }
    },
    {
      "cell_type": "code",
      "source": [
        "import sys\n",
        "\n",
        "if \"google.colab\" in sys.modules:\n",
        "    from google.colab import auth\n",
        "\n",
        "    auth.authenticate_user()"
      ],
      "metadata": {
        "id": "DAQpKH-ZwVHg"
      },
      "execution_count": 2,
      "outputs": []
    },
    {
      "cell_type": "markdown",
      "source": [
        "### Import libraries"
      ],
      "metadata": {
        "id": "k1ZOy4mOwcs3"
      }
    },
    {
      "cell_type": "code",
      "source": [
        "import time\n",
        "\n",
        "from IPython.display import Markdown, Video, display\n",
        "from google import genai\n",
        "from google.genai import types\n",
        "import matplotlib.image as img\n",
        "import matplotlib.pyplot as plt"
      ],
      "metadata": {
        "id": "aEBtS_knweiP"
      },
      "execution_count": 3,
      "outputs": []
    },
    {
      "cell_type": "markdown",
      "source": [
        "### Set Google Cloud project information and create client\n",
        "\n",
        "To get started using Vertex AI, you must have an existing Google Cloud project and [enable the Vertex AI API](https://console.cloud.google.com/flows/enableapi?apiid=aiplatform.googleapis.com).\n",
        "\n",
        "Learn more about [setting up a project and a development environment](https://cloud.google.com/vertex-ai/docs/start/cloud-environment)."
      ],
      "metadata": {
        "id": "91C9NpvPw_ch"
      }
    },
    {
      "cell_type": "code",
      "source": [
        "import os\n",
        "\n",
        "PROJECT_ID = \"[your-project-id]\"  # @param {type: \"string\", placeholder: \"[your-project-id]\", isTemplate: true}\n",
        "if not PROJECT_ID or PROJECT_ID == \"[your-project-id]\":\n",
        "    PROJECT_ID = str(os.environ.get(\"GOOGLE_CLOUD_PROJECT\"))\n",
        "\n",
        "LOCATION = os.environ.get(\"GOOGLE_CLOUD_REGION\", \"us-central1\")\n",
        "\n",
        "client = genai.Client(vertexai=True, project=PROJECT_ID, location=LOCATION)"
      ],
      "metadata": {
        "id": "8nhZXZJtxLun"
      },
      "execution_count": 4,
      "outputs": []
    },
    {
      "cell_type": "markdown",
      "source": [
        "### Define helper function to display media"
      ],
      "metadata": {
        "id": "PsZDDvmnxVQQ"
      }
    },
    {
      "cell_type": "code",
      "source": [
        "def show_video(video):\n",
        "    if isinstance(video, str):\n",
        "        file_name = video.split(\"/\")[-1]\n",
        "        !gsutil cp {video} {file_name}\n",
        "        display(Video(file_name, embed=True, width=600))\n",
        "    else:\n",
        "        with open(\"sample.mp4\", \"wb\") as out_file:\n",
        "            out_file.write(video)\n",
        "        display(Video(\"sample.mp4\", embed=True, width=600))"
      ],
      "metadata": {
        "id": "KiUFTUM-xYd_"
      },
      "execution_count": 5,
      "outputs": []
    },
    {
      "cell_type": "markdown",
      "source": [
        "### Load the video generation model"
      ],
      "metadata": {
        "id": "g2aARWylxj1X"
      }
    },
    {
      "cell_type": "code",
      "source": [
        "video_model = \"veo-3.0-generate-001\"\n",
        "video_model_fast = \"veo-3.0-fast-generate-001\"\n",
        "image_video_model = \"veo-3.0-generate-preview\"\n",
        "gemini_model = \"gemini-2.5-flash\""
      ],
      "metadata": {
        "id": "Z3oao_voxkU2"
      },
      "execution_count": 6,
      "outputs": []
    },
    {
      "cell_type": "markdown",
      "source": [
        "## Generate videos\n",
        "Now, you'll generate videos from text and/or image prompts. You can get started with your own prompts or complete the next section to optimize your prompts with some established best practices."
      ],
      "metadata": {
        "id": "HrZa8ctgxplJ"
      }
    },
    {
      "cell_type": "markdown",
      "source": [
        "### [Optional] Optimize your prompt: Text-to-video\n",
        "\n",
        "By considering the following options in your prompt, you can use Veo to create higher quality videos that more closely resemble your desired outcome. Learn more about advanced [prompting techniques for Veo 3](https://medium.com/google-cloud/veo-3-a-detailed-prompting-guide-867985b46018). To get started specify the following, or leave them as `None` if they don't align with your specific goals.\n",
        "- **Subject:** The \"who\" or \"what\" of your video\n",
        "- **Action:** Describe movements, interactions, etc.\n",
        "- **Scene:** The \"where\" and \"when\" of your video\n",
        "- **Camera angles:** The shot's viewpoint\n",
        "- **Camera movements:** For a more cinematic/dynamic experience\n",
        "- **Lens effects:** How the camera \"sees\" the world\n",
        "- **Style:** The video's artistic filter\n",
        "- **Temporal elements:** To imply changes in time\n",
        "- **Audio:** Various sound effects or dialogue that guides the visuals through sound"
      ],
      "metadata": {
        "id": "yJJGTjh0xteX"
      }
    },
    {
      "cell_type": "code",
      "source": [
        "subject = \"a detective\"  # @param {type: 'string'}\n",
        "action = \"interrogating a rubber duck\"  # @param {type: 'string'}\n",
        "scene = \"in a dark interview room\"  # @param {type: 'string'}\n",
        "\n",
        "camera_angle = \"Over-the-Shoulder Shot\"  # @param [\"None\", \"Eye-Level Shot\", \"Low-Angle Shot\", \"High-Angle Shot\", \"Bird's-Eye View\", \"Top-Down Shot\", \"Worm's-Eye View\", \"Dutch Angle\", \"Canted Angle\", \"Close-Up\", \"Extreme Close-Up\", \"Medium Shot\", \"Full Shot\", \"Long Shot\", \"Wide Shot\", \"Establishing Shot\", \"Over-the-Shoulder Shot\", \"Point-of-View (POV) Shot\"]\n",
        "camera_movement = \"Zoom (In)\"  # @param [\"None\", \"Static Shot (or fixed)\", \"Pan (left)\", \"Pan (right)\", \"Tilt (up)\", \"Tilt (down)\", \"Dolly (In)\", \"Dolly (Out)\", \"Zoom (In)\", \"Zoom (Out)\", \"Truck (Left)\", \"Truck (Right)\", \"Pedestal (Up)\", \"Pedestal (Down)\", \"Crane Shot\", \"Aerial Shot\", \"Drone Shot\", \"Handheld\", \"Shaky Cam\", \"Whip Pan\", \"Arc Shot\"]\n",
        "lens_effects = \"None\"  # @param [\"None\", \"Wide-Angle Lens (e.g., 24mm)\", \"Telephoto Lens (e.g., 85mm)\", \"Shallow Depth of Field\", \"Bokeh\", \"Deep Depth of Field\", \"Lens Flare\", \"Rack Focus\", \"Fisheye Lens Effect\", \"Vertigo Effect (Dolly Zoom)\"]\n",
        "style = \"Cinematic\"  # @param [\"None\", \"Photorealistic\", \"Cinematic\", \"Vintage\", \"Japanese anime style\", \"Claymation style\", \"Stop-motion animation\", \"In the style of Van Gogh\", \"Surrealist painting\", \"Monochromatic black and white\", \"Vibrant and saturated\", \"Film noir style\", \"High-key lighting\", \"Low-key lighting\", \"Golden hour glow\", \"Volumetric lighting\", \"Backlighting to create a silhouette\"]\n",
        "temporal_elements = \"None\"  # @param [\"None\", \"Slow-motion\", \"Fast-paced action\", \"Time-lapse\", \"Hyperlapse\", \"Pulsating light\", \"Rhythmic movement\"]\n",
        "\n",
        "sound_effects = \"Ticking clock\"  # @param [\"None\", \"Sound of a phone ringing\", \"Water splashing\", \"Soft house sounds\", \"Ticking clock\", \"City traffic and sirens\", \"Waves crashing\", \"Quiet office hum\"]\n",
        "dialogue = \"Where were you last night?\"  # @param {type: 'string'}"
      ],
      "metadata": {
        "id": "Ux6xZ0QDx0oe"
      },
      "execution_count": 7,
      "outputs": []
    },
    {
      "cell_type": "markdown",
      "source": [
        "Now, you'll use Gemini to take all of these keywords and combine them into a detailed Veo prompt."
      ],
      "metadata": {
        "id": "QQOyznF1yD5I"
      }
    },
    {
      "cell_type": "code",
      "source": [
        "prompt = \"\"\n",
        "\n",
        "keywords = [subject, action, scene]\n",
        "optional_keywords = [\n",
        "    camera_angle,\n",
        "    camera_movement,\n",
        "    lens_effects,\n",
        "    style,\n",
        "    temporal_elements,\n",
        "    sound_effects,\n",
        "]\n",
        "for keyword in optional_keywords:\n",
        "    if keyword != \"None\":\n",
        "        keywords.append(keyword)\n",
        "if dialogue != \"\":\n",
        "    keywords.append(dialogue)\n",
        "\n",
        "gemini_prompt = f\"\"\"\n",
        "You are an expert video prompt engineer for Google's Veo model. Your task is to construct the most effective and optimal prompt string using the following keywords. Every single keyword MUST be included. Synthesize them into a single, cohesive, and cinematic instruction. Do not add any new core concepts. Output ONLY the final prompt string, without any introduction or explanation. Mandatory Keywords: {\",\".join(keywords)}\n",
        "\"\"\"\n",
        "response = client.models.generate_content(\n",
        "    model=gemini_model,\n",
        "    contents=gemini_prompt,\n",
        ")\n",
        "\n",
        "# Set Gemini's response in a prompt variable\n",
        "prompt = response.text\n",
        "display(Markdown(response.text))"
      ],
      "metadata": {
        "id": "bq-YCPZuyEwW"
      },
      "execution_count": null,
      "outputs": []
    },
    {
      "cell_type": "markdown",
      "source": [
        "### Generate videos from a text prompt\n",
        "\n",
        "With Veo 3, you have the option to generate 8 second videos from a text prompt. In order to generate a video in the following sample, specify the following info:\n",
        "- **Prompt:** A detailed description of the video you would like to see. Only edit the prompt if you didn't generate a detailed prompt with Gemini in the previous section.\n",
        "- **Prompt enhancement:** The model offers the option to enhance your provided prompt.\n",
        "- **Audio generation:** Set `generate_audio` to True if you'd like audio to be included in the output video.\n",
        "- **Aspect ratio:** 16:9\n",
        "- **Number of videos:** Set this value to 1 or 2.\n",
        "- **Video duration:** 8 seconds\n",
        "- **Resolution:** Can be 1080p or 720p."
      ],
      "metadata": {
        "id": "YDOrP4WMyYoA"
      }
    },
    {
      "cell_type": "code",
      "source": [
        "if prompt == \"\":\n",
        "    prompt = \"a garden gnome singing a pop song in a whimsical outdoor garden\"  # @param {type: 'string'}"
      ],
      "metadata": {
        "id": "8w_cJmfKyeM2"
      },
      "execution_count": 9,
      "outputs": []
    },
    {
      "cell_type": "code",
      "source": [
        "print(prompt)\n",
        "enhance_prompt = True  # @param {type: 'boolean'}\n",
        "generate_audio = True  # @param {type: 'boolean'}\n",
        "\n",
        "operation = client.models.generate_videos(\n",
        "    model=video_model,\n",
        "    prompt=prompt,\n",
        "    config=types.GenerateVideosConfig(\n",
        "        aspect_ratio=\"16:9\",\n",
        "        number_of_videos=1,\n",
        "        duration_seconds=8,\n",
        "        resolution=\"1080p\",\n",
        "        person_generation=\"allow_adult\",\n",
        "        enhance_prompt=enhance_prompt,\n",
        "        generate_audio=generate_audio,\n",
        "    ),\n",
        ")\n",
        "\n",
        "while not operation.done:\n",
        "    time.sleep(15)\n",
        "    operation = client.operations.get(operation)\n",
        "    print(operation)\n",
        "\n",
        "if operation.response:\n",
        "    show_video(operation.result.generated_videos[0].video.video_bytes)"
      ],
      "metadata": {
        "id": "6Q-tkS6hyiUd"
      },
      "execution_count": null,
      "outputs": []
    },
    {
      "cell_type": "markdown",
      "source": [
        "- **Veo 3 Fast:** For this next example, you'll use Veo 3 Fast. This model is a great option for use cases where latency is a priority over maximum quality.\n",
        "- **File location:** In this request, the video will be stored in Cloud Storage once video generation is complete. Specify the bucket path where you would like this video to be stored in the `output_gcs` field.\n",
        "- **Person generation:** When generating videos of people you can also set the `person_generation` parameter accordingly: `allow_adult`, `dont_allow`"
      ],
      "metadata": {
        "id": "L2zCyw4GzcQL"
      }
    },
    {
      "cell_type": "code",
      "source": [
        "prompt = \"sculpting a bowl on a pottery wheel while the person sculpting remarks: wow, I love this one\"  # @param {type: 'string'}\n",
        "output_gcs = \"gs://[your-bucket-path]\"  # @param {type: 'string'}\n",
        "enhance_prompt = True  # @param {type: 'boolean'}\n",
        "generate_audio = True  # @param {type: 'boolean'}\n",
        "\n",
        "\n",
        "operation = client.models.generate_videos(\n",
        "    model=video_model_fast,\n",
        "    prompt=prompt,\n",
        "    config=types.GenerateVideosConfig(\n",
        "        aspect_ratio=\"16:9\",\n",
        "        output_gcs_uri=output_gcs,\n",
        "        number_of_videos=1,\n",
        "        duration_seconds=8,\n",
        "        resolution=\"1080p\",\n",
        "        person_generation=\"allow_adult\",\n",
        "        enhance_prompt=enhance_prompt,\n",
        "        generate_audio=generate_audio,\n",
        "    ),\n",
        ")\n",
        "\n",
        "while not operation.done:\n",
        "    time.sleep(15)\n",
        "    operation = client.operations.get(operation)\n",
        "    print(operation)\n",
        "\n",
        "if operation.response:\n",
        "    show_video(operation.result.generated_videos[0].video.uri)"
      ],
      "metadata": {
        "id": "ZUyVK38Uzrw2"
      },
      "execution_count": null,
      "outputs": []
    },
    {
      "cell_type": "markdown",
      "source": [
        "### Generate videos from an image"
      ],
      "metadata": {
        "id": "NO-0WG-L1A5a"
      }
    },
    {
      "cell_type": "markdown",
      "source": [
        "#### Download the starting image\n",
        "\n",
        "You can also generate a video by starting with an input image. In this example, you'll locally download an image that's stored in Google Cloud Storage. If you'd like, you can add the URL of the image you'd like to use to display it below. If you have a local image you'd like to use, you can specify that in the following steps."
      ],
      "metadata": {
        "id": "JObwjDsf1B3_"
      }
    },
    {
      "cell_type": "code",
      "source": [
        "!wget https://storage.googleapis.com/cloud-samples-data/generative-ai/image/flowers.png"
      ],
      "metadata": {
        "id": "Ry2_Q4tV1Fig"
      },
      "execution_count": null,
      "outputs": []
    },
    {
      "cell_type": "markdown",
      "source": [
        "If you'd like to use a different local image, modify the file name in `starting_image`."
      ],
      "metadata": {
        "id": "Go51vety1Jgp"
      }
    },
    {
      "cell_type": "code",
      "source": [
        "starting_image = \"flowers.png\"  # @param {type: 'string'}\n",
        "\n",
        "# Display the image\n",
        "fig, axis = plt.subplots(1, 1, figsize=(12, 6))\n",
        "axis.imshow(img.imread(starting_image))\n",
        "axis.set_title(\"Starting Frame\")\n",
        "axis.axis(\"off\")\n",
        "plt.show()"
      ],
      "metadata": {
        "id": "ke3pguMb1L2w"
      },
      "execution_count": null,
      "outputs": []
    },
    {
      "cell_type": "markdown",
      "source": [
        "#### [Optional] Optimize your prompt: Image-to-video\n",
        "\n",
        "By considering the following options in your prompt, you can use Veo to create higher quality videos that more closely resemble your desired outcome. Learn more about advanced [prompting techniques for Veo 3](https://medium.com/google-cloud/veo-3-a-detailed-prompting-guide-867985b46018). To get started specify the following, or leave them as `None` if they don't align with your specific goals.\n",
        "- **Camera motion:** The camera movement that occurs while the rest of the scene remains static\n",
        "- **Subject animation:** Main character or object movement  \n",
        "- **Environmental animation:** Background or atmosphere movement\n",
        "- **Audio:** Various sound effects or dialogue that guides the visuals through sound"
      ],
      "metadata": {
        "id": "1_gQr3AX1PyX"
      }
    },
    {
      "cell_type": "code",
      "source": [
        "camera_motion = \"Extreme Close-Up\"  # @param [\"None\", \"Eye-Level Shot\", \"Low-Angle Shot\", \"High-Angle Shot\", \"Bird's-Eye View\", \"Top-Down Shot\", \"Worm's-Eye View\", \"Dutch Angle\", \"Canted Angle\", \"Close-Up\", \"Extreme Close-Up\", \"Medium Shot\", \"Full Shot\", \"Long Shot\", \"Wide Shot\", \"Establishing Shot\", \"Over-the-Shoulder Shot\", \"Point-of-View (POV) Shot\", \"Static Shot (or fixed)\", \"Pan (left)\", \"Pan (right)\", \"Tilt (up)\", \"Tilt (down)\", \"Dolly (In)\", \"Dolly (Out)\", \"Zoom (In)\", \"Zoom (Out)\", \"Truck (Left)\", \"Truck (Right)\", \"Pedestal (Up)\", \"Pedestal (Down)\", \"Crane Shot\", \"Aerial Shot\", \"Drone Shot\", \"Handheld\", \"Shaky Cam\", \"Whip Pan\", \"Arc Shot\", \"Wide-Angle Lens (e.g., 24mm)\", \"Telephoto Lens (e.g., 85mm)\", \"Shallow Depth of Field\", \"Bokeh\", \"Deep Depth of Field\", \"Lens Flare\", \"Rack Focus\", \"Fisheye Lens Effect\", \"Vertigo Effect (Dolly Zoom)\"]\n",
        "\n",
        "subject_animation = \"None\"  # @param [\"None\", \"The subject's head turns slowly\", \"The subject blinks slowly\", \"The subject's hair and clothes flutter gently in the wind\", \"A subtle smile appears on the subject's face\"]\n",
        "environmental_animation = \"Light changes subtly\"  # @param [\"None\", \"Fog rolls in slowly\", \"Rain starts to fall gently\", \"Leaves rustle in the wind\", \"Light changes subtly\", \"Reflections move on water\"]\n",
        "\n",
        "sound_effects = \"None\"  # @param [\"None\", \"Sound of a phone ringing\", \"Water splashing\", \"Soft house sounds\", \"Ticking clock\", \"City traffic and sirens\", \"Waves crashing\", \"Quiet office hum\"]\n",
        "dialogue = \"\"  # @param {type: 'string'}"
      ],
      "metadata": {
        "id": "HdW5n3MI1Svo"
      },
      "execution_count": 14,
      "outputs": []
    },
    {
      "cell_type": "markdown",
      "source": [
        "Now, you'll use Gemini to take all of these keywords and combine them into a detailed Veo prompt."
      ],
      "metadata": {
        "id": "6b2th6OX1Wkq"
      }
    },
    {
      "cell_type": "code",
      "source": [
        "prompt = \"\"\n",
        "\n",
        "keywords = []\n",
        "optional_keywords = [\n",
        "    camera_motion,\n",
        "    subject_animation,\n",
        "    environmental_animation,\n",
        "    sound_effects,\n",
        "]\n",
        "for keyword in optional_keywords:\n",
        "    if keyword != \"None\":\n",
        "        keywords.append(keyword)\n",
        "if dialogue != \"\":\n",
        "    keywords.append(dialogue)\n",
        "\n",
        "gemini_prompt = f\"\"\"\n",
        "You are an expert prompt engineer for Google's Veo model. Analyze the provided image and combine its content with the following motion and audio keywords to generate a single, cohesive, and cinematic prompt. Integrate the image's subject and scene with the requested motion and audio effects. The final output must be ONLY the prompt itself, with no preamble. Mandatory Keywords: {\",\".join(keywords)}\n",
        "\"\"\"\n",
        "with open(starting_image, \"rb\") as f:\n",
        "    image = f.read()\n",
        "\n",
        "response = client.models.generate_content(\n",
        "    model=gemini_model,\n",
        "    contents=[gemini_prompt, types.Part.from_bytes(data=image, mime_type=\"image/png\")],\n",
        ")\n",
        "\n",
        "# Set Gemini's response in a prompt variable\n",
        "prompt = response.text\n",
        "display(Markdown(response.text))"
      ],
      "metadata": {
        "id": "KVgnYblA1XEu"
      },
      "execution_count": null,
      "outputs": []
    },
    {
      "cell_type": "markdown",
      "source": [
        "#### Send the video request\n",
        "\n",
        "If you're generating a video from an image you don't need to provide a prompt. The model will simply add motion to your image; however, a detailed prompt will help with video quality."
      ],
      "metadata": {
        "id": "YfM2ahQV1foR"
      }
    },
    {
      "cell_type": "code",
      "source": [
        "if prompt == \"\":\n",
        "    prompt = \"zoom out of the flower field, play whimsical music\"  # @param {type: 'string'}"
      ],
      "metadata": {
        "id": "TfsN3PWG1gpg"
      },
      "execution_count": 16,
      "outputs": []
    },
    {
      "cell_type": "code",
      "source": [
        "print(prompt)\n",
        "enhance_prompt = True  # @param {type: 'boolean'}\n",
        "generate_audio = True  # @param {type: 'boolean'}\n",
        "\n",
        "operation = client.models.generate_videos(\n",
        "    model=image_video_model,\n",
        "    prompt=prompt,\n",
        "    image=types.Image.from_file(location=starting_image),\n",
        "    config=types.GenerateVideosConfig(\n",
        "        aspect_ratio=\"16:9\",\n",
        "        number_of_videos=1,\n",
        "        duration_seconds=8,\n",
        "        resolution=\"1080p\",\n",
        "        person_generation=\"allow_adult\",\n",
        "        enhance_prompt=enhance_prompt,\n",
        "        generate_audio=generate_audio,\n",
        "    ),\n",
        ")\n",
        "\n",
        "while not operation.done:\n",
        "    time.sleep(15)\n",
        "    operation = client.operations.get(operation)\n",
        "    print(operation)\n",
        "\n",
        "if operation.response:\n",
        "    show_video(operation.result.generated_videos[0].video.video_bytes)"
      ],
      "metadata": {
        "id": "NOw6qp_G1kRl"
      },
      "execution_count": null,
      "outputs": []
    }
  ]
}